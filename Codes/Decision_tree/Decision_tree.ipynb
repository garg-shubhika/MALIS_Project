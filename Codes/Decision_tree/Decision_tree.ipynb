{
 "cells": [
  {
   "cell_type": "code",
   "execution_count": null,
   "id": "7c16814e-cd5b-48b8-8729-16eeb00bcf5c",
   "metadata": {},
   "outputs": [],
   "source": [
    "import numpy as np\n",
    "import pandas as pd\n",
    "import scipy.stats as sc\n",
    "from sklearn.model_selection import train_test_split\n",
    "from sklearn.metrics import mean_squared_error"
   ]
  },
  {
   "cell_type": "code",
   "execution_count": null,
   "id": "aabd9a2b-946a-4695-ad13-54787f2a8ccc",
   "metadata": {},
   "outputs": [],
   "source": [
    "airplanes_df = pd.read_csv('../../data/Clean_Dataset.csv') # read our CSV file\n",
    "airplanes1_df = airplanes_df#.drop(['Unnamed: 0'], axis=1) #drops the first  column (id)\n",
    "airplanes_train, airplanes_test = train_test_split(airplanes1_df, test_size=0.2, random_state=4) # on divise les données en 2 sets\n",
    "###\n",
    "#airplane_train and _test sont de type <class 'pandas.core.frame.DataFrame'> (the last column is price)"
   ]
  },
  {
   "cell_type": "code",
   "execution_count": 222,
   "id": "2a662ffa-68c6-4ed2-a26f-cc0f989b156d",
   "metadata": {},
   "outputs": [],
   "source": [
    "class Node():\n",
    "    \n",
    "    def __init__(self, X):\n",
    "        self.X_parent = X\n",
    "        self.X_left = None\n",
    "        self.X_right = None\n",
    "        self.depth = 0\n",
    "        self.column = None\n",
    "        self.condition = None\n",
    "        self.MSE = mean_squared_error([np.mean(self.X_parent['price'])]*len(self.X_parent['price']) , self.X_parent['price'])\n",
    "        print(self.MSE)\n",
    "    \n",
    "    def separate_from_class(self,column, condition): # pour separateurs par classification\n",
    "        X_gauche = self.X_parent[self.X_parent[column] == condition]\n",
    "        X_droite = self.X_parent[self.X_parent[column] != condition]\n",
    "        \n",
    "        size_G = len(X_gauche['price'])\n",
    "        size_D = len(X_droite['price'])\n",
    "        MSE_G = mean_squared_error([np.mean(X_gauche['price'])]*size_G , X_gauche['price'])\n",
    "        MSE_D = mean_squared_error([np.mean(X_droite['price'])]*size_D , X_droite['price'])\n",
    "        return ( MSE_G*size_G + MSE_D*size_D )/(size_G + size_D)\n",
    "        \n",
    "    def separate_from_int(self,column,condition): # pour separateurs par rapport a une valeur\n",
    "        X_gauche = self.X_parent[self.X_parent[column] < float(condition)]\n",
    "        X_droite = self.X_parent[self.X_parent[column] >= float(condition)]\n",
    "        \n",
    "        size_G = len(X_gauche['price'])\n",
    "        size_D = len(X_droite['price'])\n",
    "        MSE_G = mean_squared_error([np.mean(X_gauche['price'])]*size_G , X_gauche['price'])\n",
    "        MSE_D = mean_squared_error([np.mean(X_droite['price'])]*size_D , X_droite['price'])\n",
    "        return ( MSE_G*size_G + MSE_D*size_D )/(size_G + size_D)\n",
    "    \n",
    "    def best_split(self):\n",
    "        best_MSE = noeud.MSE\n",
    "        best_cond = noeud.condition\n",
    "        best_column = noeud.column\n",
    "        for column in self.X_parent.select_dtypes(include=np.number).columns.drop([\"Unnamed: 0\",\"price\"]).tolist():\n",
    "            #print(column)\n",
    "            for trait in np.sort(airplanes_df[column].unique())[1:]:\n",
    "                MSE = self.separate_from_int(column,trait)\n",
    "                if ( MSE < best_MSE):\n",
    "                    best_MSE = MSE\n",
    "                    best_cond = trait\n",
    "                    best_column = column\n",
    "                    # print(\"MSE: \", MSE,\"\\t cond:\", column,\"<\", trait )\n",
    "        for column in self.X_parent.select_dtypes(include=['object']).columns.drop([\"flight\"]).tolist() :\n",
    "            #print(column)\n",
    "            for trait in np.sort(airplanes_df[column].unique()):\n",
    "                MSE = self.separate_from_class(column,trait)\n",
    "                if ( MSE < best_MSE):\n",
    "                    best_MSE = MSE\n",
    "                    best_cond = trait\n",
    "                    best_column = column\n",
    "                    # print(\"MSE: \", MSE,\"\\t cond:\", column,\"==\", trait )\n",
    "        self.MSE = best_MSE\n",
    "        self.condition = best_cond\n",
    "        self.column = best_column\n",
    "            "
   ]
  },
  {
   "cell_type": "code",
   "execution_count": null,
   "id": "06ff444e-69ca-46e7-a3b9-f8b93b3757a4",
   "metadata": {},
   "outputs": [],
   "source": [
    "class Tree(X):\n",
    "    def __init__(self,X):\n",
    "        \n",
    "    def create_tree"
   ]
  },
  {
   "cell_type": "code",
   "execution_count": 220,
   "id": "a0ec8c82-c4fa-426a-9dce-0a4d3e388e11",
   "metadata": {},
   "outputs": [
    {
     "name": "stdout",
     "output_type": "stream",
     "text": [
      "515186926.9843313\n",
      "duration\n",
      "days_left\n",
      "airline\n",
      "source_city\n",
      "departure_time\n",
      "stops\n",
      "arrival_time\n",
      "destination_city\n",
      "class\n",
      "Business class\n"
     ]
    }
   ],
   "source": [
    "noeud = Node(airplanes_df)\n",
    "noeud.best_split()\n",
    "print (noeud.condition,noeud.column)"
   ]
  },
  {
   "cell_type": "code",
   "execution_count": 219,
   "id": "e81ca701-b537-41df-8627-4f09ecac6f55",
   "metadata": {},
   "outputs": [
    {
     "name": "stdout",
     "output_type": "stream",
     "text": [
      "515186926.9843313\n",
      "\n",
      " airline\n",
      "SpiceJet \t 508489376.3010697\n",
      "AirAsia \t 499194475.898759\n",
      "\n",
      " flight\n",
      "SG-8709 \t 515071308.56803\n",
      "SG-8157 \t 515077684.1263032\n",
      "\n",
      " source_city\n",
      "Delhi \t 514221832.8445954\n",
      "Mumbai \t 515097074.8344138\n",
      "\n",
      " departure_time\n",
      "Evening \t 515154398.4938372\n",
      "Early_Morning \t 515109838.9350497\n",
      "\n",
      " stops\n",
      "zero \t 497117962.6943945\n",
      "one \t 494597450.6020168\n",
      "\n",
      " arrival_time\n",
      "Night \t 514973699.4261957\n",
      "Morning \t 514711457.17155665\n",
      "\n",
      " destination_city\n",
      "Mumbai \t 515129765.1653341\n",
      "Bangalore \t 515085229.36009145\n",
      "\n",
      " class\n",
      "Economy \t 62037785.990201846\n",
      "Business \t 62037785.990201846\n",
      "\n",
      " duration\n",
      "2.17 \t 513704178.92390436\n",
      "2.33 \t 514473615.45160544\n",
      "\n",
      " days_left\n",
      "1 \t 515183740.83549243\n",
      "2 \t 514005572.1863627\n",
      "\n",
      " price\n",
      "5953 \t 514919762.6177916\n",
      "5956 \t 515149770.70521724\n"
     ]
    }
   ],
   "source": []
  },
  {
   "cell_type": "code",
   "execution_count": 126,
   "id": "c4fc0d3f-fc89-45fe-a1de-fccc14559e6c",
   "metadata": {},
   "outputs": [
    {
     "data": {
      "text/plain": [
       "['duration', 'days_left']"
      ]
     },
     "execution_count": 126,
     "metadata": {},
     "output_type": "execute_result"
    }
   ],
   "source": [
    "\n",
    "noeud.X_parent.select_dtypes(include=np.number).columns.drop([\"Unnamed: 0\",\"price\"]).tolist()"
   ]
  },
  {
   "cell_type": "code",
   "execution_count": 127,
   "id": "fd4dfedd-6411-4a41-b389-94fb95f9e710",
   "metadata": {},
   "outputs": [
    {
     "data": {
      "text/plain": [
       "['airline',\n",
       " 'flight',\n",
       " 'source_city',\n",
       " 'departure_time',\n",
       " 'stops',\n",
       " 'arrival_time',\n",
       " 'destination_city',\n",
       " 'class']"
      ]
     },
     "execution_count": 127,
     "metadata": {},
     "output_type": "execute_result"
    }
   ],
   "source": [
    "\n",
    "noeud.X_parent.select_dtypes(include=['object']).columns.tolist()"
   ]
  },
  {
   "cell_type": "code",
   "execution_count": null,
   "id": "dfddeadb-330d-42b0-8040-02aa1739c63c",
   "metadata": {},
   "outputs": [],
   "source": []
  }
 ],
 "metadata": {
  "kernelspec": {
   "display_name": "Python 3 (ipykernel)",
   "language": "python",
   "name": "python3"
  },
  "language_info": {
   "codemirror_mode": {
    "name": "ipython",
    "version": 3
   },
   "file_extension": ".py",
   "mimetype": "text/x-python",
   "name": "python",
   "nbconvert_exporter": "python",
   "pygments_lexer": "ipython3",
   "version": "3.8.13"
  }
 },
 "nbformat": 4,
 "nbformat_minor": 5
}
