{
 "cells": [
  {
   "cell_type": "code",
   "execution_count": 45,
   "id": "102ff2f7-f1c2-40f2-bd76-8e1357f2bcdf",
   "metadata": {},
   "outputs": [],
   "source": [
    "import numpy as np\n",
    "import pandas as pd"
   ]
  },
  {
   "cell_type": "code",
   "execution_count": 46,
   "id": "a61a7515-41eb-499c-a29f-5578a532422a",
   "metadata": {},
   "outputs": [],
   "source": [
    "df= pd.read_csv('C:/git/MALIS_Project/data/Clean_Dataset.csv')"
   ]
  },
  {
   "cell_type": "code",
   "execution_count": 47,
   "id": "df1ba0c6-7c26-4e30-88d3-fed89f28189e",
   "metadata": {},
   "outputs": [
    {
     "data": {
      "text/html": [
       "<div>\n",
       "<style scoped>\n",
       "    .dataframe tbody tr th:only-of-type {\n",
       "        vertical-align: middle;\n",
       "    }\n",
       "\n",
       "    .dataframe tbody tr th {\n",
       "        vertical-align: top;\n",
       "    }\n",
       "\n",
       "    .dataframe thead th {\n",
       "        text-align: right;\n",
       "    }\n",
       "</style>\n",
       "<table border=\"1\" class=\"dataframe\">\n",
       "  <thead>\n",
       "    <tr style=\"text-align: right;\">\n",
       "      <th></th>\n",
       "      <th>airline</th>\n",
       "      <th>flight</th>\n",
       "      <th>source_city</th>\n",
       "      <th>departure_time</th>\n",
       "      <th>stops</th>\n",
       "      <th>arrival_time</th>\n",
       "      <th>destination_city</th>\n",
       "      <th>class</th>\n",
       "      <th>duration</th>\n",
       "      <th>days_left</th>\n",
       "      <th>price</th>\n",
       "    </tr>\n",
       "  </thead>\n",
       "  <tbody>\n",
       "    <tr>\n",
       "      <th>0</th>\n",
       "      <td>SpiceJet</td>\n",
       "      <td>SG-8709</td>\n",
       "      <td>Delhi</td>\n",
       "      <td>Evening</td>\n",
       "      <td>zero</td>\n",
       "      <td>Night</td>\n",
       "      <td>Mumbai</td>\n",
       "      <td>Economy</td>\n",
       "      <td>2.17</td>\n",
       "      <td>1</td>\n",
       "      <td>5953</td>\n",
       "    </tr>\n",
       "    <tr>\n",
       "      <th>1</th>\n",
       "      <td>SpiceJet</td>\n",
       "      <td>SG-8157</td>\n",
       "      <td>Delhi</td>\n",
       "      <td>Early_Morning</td>\n",
       "      <td>zero</td>\n",
       "      <td>Morning</td>\n",
       "      <td>Mumbai</td>\n",
       "      <td>Economy</td>\n",
       "      <td>2.33</td>\n",
       "      <td>1</td>\n",
       "      <td>5953</td>\n",
       "    </tr>\n",
       "    <tr>\n",
       "      <th>2</th>\n",
       "      <td>AirAsia</td>\n",
       "      <td>I5-764</td>\n",
       "      <td>Delhi</td>\n",
       "      <td>Early_Morning</td>\n",
       "      <td>zero</td>\n",
       "      <td>Early_Morning</td>\n",
       "      <td>Mumbai</td>\n",
       "      <td>Economy</td>\n",
       "      <td>2.17</td>\n",
       "      <td>1</td>\n",
       "      <td>5956</td>\n",
       "    </tr>\n",
       "    <tr>\n",
       "      <th>3</th>\n",
       "      <td>Vistara</td>\n",
       "      <td>UK-995</td>\n",
       "      <td>Delhi</td>\n",
       "      <td>Morning</td>\n",
       "      <td>zero</td>\n",
       "      <td>Afternoon</td>\n",
       "      <td>Mumbai</td>\n",
       "      <td>Economy</td>\n",
       "      <td>2.25</td>\n",
       "      <td>1</td>\n",
       "      <td>5955</td>\n",
       "    </tr>\n",
       "    <tr>\n",
       "      <th>4</th>\n",
       "      <td>Vistara</td>\n",
       "      <td>UK-963</td>\n",
       "      <td>Delhi</td>\n",
       "      <td>Morning</td>\n",
       "      <td>zero</td>\n",
       "      <td>Morning</td>\n",
       "      <td>Mumbai</td>\n",
       "      <td>Economy</td>\n",
       "      <td>2.33</td>\n",
       "      <td>1</td>\n",
       "      <td>5955</td>\n",
       "    </tr>\n",
       "  </tbody>\n",
       "</table>\n",
       "</div>"
      ],
      "text/plain": [
       "    airline   flight source_city departure_time stops   arrival_time  \\\n",
       "0  SpiceJet  SG-8709       Delhi        Evening  zero          Night   \n",
       "1  SpiceJet  SG-8157       Delhi  Early_Morning  zero        Morning   \n",
       "2   AirAsia   I5-764       Delhi  Early_Morning  zero  Early_Morning   \n",
       "3   Vistara   UK-995       Delhi        Morning  zero      Afternoon   \n",
       "4   Vistara   UK-963       Delhi        Morning  zero        Morning   \n",
       "\n",
       "  destination_city    class  duration  days_left  price  \n",
       "0           Mumbai  Economy      2.17          1   5953  \n",
       "1           Mumbai  Economy      2.33          1   5953  \n",
       "2           Mumbai  Economy      2.17          1   5956  \n",
       "3           Mumbai  Economy      2.25          1   5955  \n",
       "4           Mumbai  Economy      2.33          1   5955  "
      ]
     },
     "execution_count": 47,
     "metadata": {},
     "output_type": "execute_result"
    }
   ],
   "source": [
    "df.drop(columns='Unnamed: 0', inplace=Truedf.head()"
   ]
  },
  {
   "cell_type": "markdown",
   "id": "403c8597",
   "metadata": {},
   "source": [
    "### Data splitting"
   ]
  },
  {
   "cell_type": "code",
   "execution_count": 48,
   "id": "a8de1d38",
   "metadata": {},
   "outputs": [
    {
     "data": {
      "text/plain": [
       "((180091, 11), (60031, 11), (60031, 11))"
      ]
     },
     "execution_count": 48,
     "metadata": {},
     "output_type": "execute_result"
    }
   ],
   "source": [
    "# Train 60%, Validation 40%, Test 40%\n",
    "from sklearn.model_selection import train_test_split\n",
    "df_train, df_valtest = train_test_split(df, test_size=0.4, random_state = 42)\n",
    "df_val, df_test = train_test_split(df_valtest, test_size=0.5, random_state=42)\n",
    "df_train.shape, df_val.shape, df_test.shape\n"
   ]
  },
  {
   "cell_type": "markdown",
   "id": "fcb7869f",
   "metadata": {},
   "source": [
    "# Only with days left, using the prof's method (lab1)"
   ]
  },
  {
   "cell_type": "code",
   "execution_count": 49,
   "id": "787ba333",
   "metadata": {},
   "outputs": [],
   "source": [
    "# Prepare data\n",
    "\n",
    "from sklearn.preprocessing import PolynomialFeatures\n",
    "\n",
    "def prepare_data(df):\n",
    "    #obtaining a copy of the relevant fields\n",
    "    variable = df[['days_left']].copy()\n",
    "    variable_array = np.array(variable)\n",
    "    variable_array = PolynomialFeatures(1).fit_transform(variable_array)\n",
    "    \n",
    "    return variable_array\n",
    "    "
   ]
  },
  {
   "cell_type": "code",
   "execution_count": 50,
   "id": "339a2c8e",
   "metadata": {},
   "outputs": [],
   "source": [
    "#We copy the output label\n",
    "output_df_train=df_train['price'].copy()\n",
    "#We remove the output label from X\n",
    "input_df_train=df_train.drop(['price'],axis=1)\n",
    "\n",
    "#process is repeated for test and validation\n",
    "output_df_val=df_val['price'].copy()\n",
    "input_df_val=df_val.drop(['price'],axis=1)\n",
    "\n",
    "output_df_test=df_test['price'].copy()\n",
    "input_df_test=df_test.drop(['price'],axis=1)\n",
    "\n",
    "#We call prepare_data\n",
    "X_train = prepare_data(input_df_train)\n",
    "X_val = prepare_data(input_df_val)\n",
    "X_test = prepare_data(input_df_test)\n",
    "y_train = np.array(output_df_train)\n",
    "y_val = np.array(output_df_val)\n",
    "y_test = np.array(output_df_test)"
   ]
  },
  {
   "cell_type": "code",
   "execution_count": 51,
   "id": "1a0fffc2",
   "metadata": {},
   "outputs": [],
   "source": [
    "class my_linear_regression:\n",
    "    def __init__(self) : # initialize constructor for the object to assign the object its properties\n",
    "        self.X_train = []\n",
    "        self.y_train = []\n",
    "        self.weights = []\n",
    "        \n",
    "    def fit(self, X, y) :\n",
    "        self.X_train = X\n",
    "        self.y_train = y\n",
    "        self.weights = np.linalg.solve(X.T@X,X.T@y)\n",
    "    \n",
    "    def predict(self,x_test) : # method of the object that can be used\n",
    "        self.y_hat=np.sum(x_test*self.weights,axis=1)\n",
    "        \n",
    "        return self.y_hat\n",
    "    \n",
    "    def MSE(self,y_pred, y_test) :\n",
    "        \n",
    "        MSE = np.square(np.subtract(np.array(y_test), np.array(y_pred))).mean()\n",
    "\n",
    "        return MSE"
   ]
  },
  {
   "cell_type": "code",
   "execution_count": 52,
   "id": "f9bd3186",
   "metadata": {},
   "outputs": [
    {
     "name": "stdout",
     "output_type": "stream",
     "text": [
      "The learned model has parameters:\n",
      "[24894.73045985  -153.72129726]\n",
      "\n"
     ]
    }
   ],
   "source": [
    "# Train\n",
    "\n",
    "model_1=my_linear_regression()\n",
    "model_1.fit(X_train,y_train)\n",
    "print(f'The learned model has parameters:\\n{model_1.weights}\\n')"
   ]
  },
  {
   "cell_type": "code",
   "execution_count": 53,
   "id": "ecdd65fd",
   "metadata": {},
   "outputs": [
    {
     "name": "stdout",
     "output_type": "stream",
     "text": [
      "MSE model 1 :\n",
      "513201737.8383519\n",
      "\n"
     ]
    }
   ],
   "source": [
    "# Validation, Predict labels\n",
    "\n",
    "y_hat = model_1.predict(X_val)\n",
    "\n",
    "# MSE\n",
    "\n",
    "mse_1 = model_1.MSE(y_hat, y_val)\n",
    "print(f'MSE model 1 :\\n{mse_1}\\n')"
   ]
  },
  {
   "cell_type": "code",
   "execution_count": 54,
   "id": "d206ef50",
   "metadata": {},
   "outputs": [
    {
     "name": "stdout",
     "output_type": "stream",
     "text": [
      "MSE test:\n",
      "509696180.91357124\n",
      "\n"
     ]
    }
   ],
   "source": [
    "# Test, Model testing\n",
    "\n",
    "y_pred = model_1.predict(X_test)\n",
    "mse = model_1.MSE(y_pred, y_test)\n",
    "print(f'MSE test:\\n{mse}\\n')"
   ]
  },
  {
   "cell_type": "code",
   "execution_count": 55,
   "id": "55816a0b",
   "metadata": {},
   "outputs": [
    {
     "name": "stdout",
     "output_type": "stream",
     "text": [
      "Mean Absolute Error (MAE):\n",
      " 19722.386\n",
      "\n",
      "Mean Squared Error (MSE):\n",
      " 509696180.914\n",
      "\n",
      "Root Mean Squared Error (RMSE):\n",
      " 22576.452\n",
      "\n",
      "R2_score:\n",
      " 0.008357\n",
      "\n",
      "Root Mean Squared Log Error (RMSLE):\n",
      " 10.025\n"
     ]
    }
   ],
   "source": [
    "from sklearn import metrics\n",
    "print('Mean Absolute Error (MAE):\\n', round(metrics.mean_absolute_error(y_test, y_pred),3)) \n",
    "print()\n",
    "print('Mean Squared Error (MSE):\\n', round(metrics.mean_squared_error(y_test, y_pred),3))\n",
    "print()\n",
    "print('Root Mean Squared Error (RMSE):\\n', round(np.sqrt(metrics.mean_squared_error(y_test, y_pred)),3))\n",
    "print()\n",
    "print('R2_score:\\n', round(metrics.r2_score(y_test, y_pred),6))\n",
    "print()\n",
    "print('Root Mean Squared Log Error (RMSLE):\\n', round(np.log(np.sqrt(metrics.mean_squared_error(y_test, y_pred))),3))"
   ]
  },
  {
   "cell_type": "code",
   "execution_count": 56,
   "id": "be780d21",
   "metadata": {},
   "outputs": [],
   "source": [
    "# The results we obtained look okay. But Shubhika's results are better."
   ]
  },
  {
   "cell_type": "markdown",
   "id": "faf9efea",
   "metadata": {},
   "source": [
    "# Trying to add more labels (airline and class) using the prof's method [does not work]"
   ]
  },
  {
   "cell_type": "code",
   "execution_count": 57,
   "id": "dc8fa0e7",
   "metadata": {},
   "outputs": [],
   "source": [
    "# This version does not work. SEE BELOW an another version using sklearn.\n",
    "\n",
    "def prepare_data_with_more_labels(df):\n",
    "    variable = df[['days_left']].copy()\n",
    "    variable=variable.join(pd.get_dummies(df.airline, prefix='airline')) # get_dummies to create 1-of-K encoding, join to add the new columns\n",
    "    variable=variable.join(pd.get_dummies(df.airline, prefix='class'))\n",
    "    variable_array = np.array(variable) # YOUR CODE HERE\n",
    "    variable_array = PolynomialFeatures(1).fit_transform(variable_array)\n",
    "    print(variable_array)\n",
    "    return variable_array"
   ]
  },
  {
   "cell_type": "code",
   "execution_count": 58,
   "id": "0687588c",
   "metadata": {},
   "outputs": [
    {
     "name": "stdout",
     "output_type": "stream",
     "text": [
      "[[ 1. 20.  0. ...  0.  0.  1.]\n",
      " [ 1. 21.  0. ...  1.  0.  0.]\n",
      " [ 1. 41.  0. ...  0.  0.  1.]\n",
      " ...\n",
      " [ 1. 29.  0. ...  0.  0.  0.]\n",
      " [ 1. 39.  0. ...  0.  0.  0.]\n",
      " [ 1. 17.  0. ...  0.  0.  0.]]\n",
      "[[ 1. 16.  0. ...  1.  0.  0.]\n",
      " [ 1. 39.  1. ...  0.  0.  0.]\n",
      " [ 1. 34.  0. ...  0.  0.  0.]\n",
      " ...\n",
      " [ 1. 47.  0. ...  0.  0.  0.]\n",
      " [ 1. 49.  0. ...  0.  0.  1.]\n",
      " [ 1. 24.  0. ...  0.  0.  1.]]\n",
      "[[ 1. 30.  1. ...  0.  0.  0.]\n",
      " [ 1. 47.  0. ...  0.  0.  1.]\n",
      " [ 1. 13.  0. ...  0.  0.  1.]\n",
      " ...\n",
      " [ 1. 25.  0. ...  0.  0.  1.]\n",
      " [ 1. 41.  0. ...  0.  0.  0.]\n",
      " [ 1. 43.  0. ...  0.  0.  1.]]\n"
     ]
    }
   ],
   "source": [
    "# STEP 1 : Prepare all your data (train, validation and testing)\n",
    "\n",
    "#We copy the output label\n",
    "output2_df_train=df_train['price'].copy()\n",
    "#We remove the output label from X\n",
    "input2_df_train=df_train.drop(['price'],axis=1)\n",
    "\n",
    "#process is repeated for test and validation\n",
    "output2_df_val=df_val['price'].copy()\n",
    "input2_df_val=df_val.drop(['price'],axis=1)\n",
    "\n",
    "output2_df_test=df_test['price'].copy()\n",
    "input2_df_test=df_test.drop(['price'],axis=1)\n",
    "\n",
    "#We call prepare_data_with_position\n",
    "X_train2 = prepare_data_with_more_labels(input2_df_train)\n",
    "X_val2 = prepare_data_with_more_labels(input2_df_val)\n",
    "X_test2 = prepare_data_with_more_labels(input2_df_test)\n",
    "y_train2 = np.array(output2_df_train)\n",
    "y_val2 = np.array(output2_df_val)\n",
    "y_test2 = np.array(output2_df_test)\n",
    "\n",
    "# STEP 2 : Create a new my_linear_regression object and store it in a variable name model_2\n",
    "\n",
    "## model_2=my_linear_regression()\n",
    "\n",
    "# STEP 3 : Run the learning process\n",
    "\n",
    "## model_2.fit(X_train2,y_train2)\n",
    "\n",
    "# STEP 4 : For inspection purposes, print out the obtained weights.\n",
    "\n",
    "## print(f'The learned model has parameters:\\n{model_2.weights}\\n')"
   ]
  },
  {
   "cell_type": "markdown",
   "id": "642a6e69",
   "metadata": {},
   "source": [
    "# Trying to add more labels with sklearn, using get_dummies for \"object\" columns"
   ]
  },
  {
   "cell_type": "code",
   "execution_count": 59,
   "id": "8c572a6f",
   "metadata": {},
   "outputs": [
    {
     "data": {
      "text/plain": [
       "LinearRegression()"
      ]
     },
     "execution_count": 59,
     "metadata": {},
     "output_type": "execute_result"
    }
   ],
   "source": [
    "from sklearn.linear_model import LinearRegression\n",
    "from sklearn import linear_model\n",
    "LR = LinearRegression()\n",
    "\n",
    "# Train\n",
    "LR.fit(X_train2,y_train2)"
   ]
  },
  {
   "cell_type": "code",
   "execution_count": 60,
   "id": "719cb006",
   "metadata": {},
   "outputs": [],
   "source": [
    "# Validation, Predict labels\n",
    "\n",
    "y_hat2 = LR.predict(X_val2)\n",
    "\n",
    "# Test, Model testing\n",
    "\n",
    "y_pred2 = LR.predict(X_test2)"
   ]
  },
  {
   "cell_type": "code",
   "execution_count": 61,
   "id": "f160de2c",
   "metadata": {},
   "outputs": [
    {
     "name": "stdout",
     "output_type": "stream",
     "text": [
      "Mean Absolute Error (MAE):\n",
      " 16029.442\n",
      "\n",
      "Mean Squared Error (MSE):\n",
      " 396910377.785\n",
      "\n",
      "Root Mean Squared Error (RMSE):\n",
      " 19922.61\n",
      "\n",
      "R2_score:\n",
      " 0.227788\n",
      "\n",
      "Root Mean Squared Log Error (RMSLE):\n",
      " 9.9\n"
     ]
    }
   ],
   "source": [
    "print('Mean Absolute Error (MAE):\\n', round(metrics.mean_absolute_error(y_test2, y_pred2),3)) \n",
    "print()\n",
    "print('Mean Squared Error (MSE):\\n', round(metrics.mean_squared_error(y_test2, y_pred2),3))\n",
    "print()\n",
    "print('Root Mean Squared Error (RMSE):\\n', round(np.sqrt(metrics.mean_squared_error(y_test2, y_pred2)),3))\n",
    "print()\n",
    "print('R2_score:\\n', round(metrics.r2_score(y_test2, y_pred2),6))\n",
    "print()\n",
    "print('Root Mean Squared Log Error (RMSLE):\\n', round(np.log(np.sqrt(metrics.mean_squared_error(y_test2, y_pred2))),3))"
   ]
  },
  {
   "cell_type": "markdown",
   "id": "d5001467",
   "metadata": {},
   "source": [
    "# Trying to add more labels with sklearn, using LabelEncoder for \"object\" columns"
   ]
  },
  {
   "cell_type": "code",
   "execution_count": 67,
   "id": "f73cee78",
   "metadata": {},
   "outputs": [],
   "source": [
    "from sklearn.preprocessing import LabelEncoder\n",
    "le=LabelEncoder()\n",
    "\n",
    "#copying the dataframe so hat we don't override the data\n",
    "dfcopy = df.copy()\n",
    "for col in dfcopy.columns:\n",
    "    if dfcopy[col].dtype=='object':\n",
    "        dfcopy[col]=le.fit_transform(dfcopy[col])\n",
    "\n",
    "df_traincopy, df_valtestcopy = train_test_split(dfcopy, test_size=0.4, random_state = 42)\n",
    "df_valcopy, df_testcopy = train_test_split(df_valtestcopy, test_size=0.5, random_state=42)\n",
    "\n",
    "#We copy the output label\n",
    "output_df_traincopy=df_traincopy['price'].copy()\n",
    "#We remove the output label from X\n",
    "input_df_traincopy=df_traincopy.drop(['price'],axis=1)\n",
    "\n",
    "#process is repeated for test and validation\n",
    "output_df_valcopy=df_valcopy['price'].copy()\n",
    "input_df_valcopy=df_valcopy.drop(['price'],axis=1)\n",
    "\n",
    "output_df_testcopy=df_testcopy['price'].copy()\n",
    "input_df_testcopy=df_testcopy.drop(['price'],axis=1)\n",
    "\n",
    "#We call prepare_data\n",
    "X_train3 = prepare_data(input_df_traincopy)\n",
    "X_val3 = prepare_data(input_df_valcopy)\n",
    "X_test3 = prepare_data(input_df_testcopy)\n",
    "y_train3 = np.array(output_df_traincopy)\n",
    "y_val3 = np.array(output_df_valcopy)\n",
    "y_test3 = np.array(output_df_testcopy)"
   ]
  },
  {
   "cell_type": "code",
   "execution_count": 68,
   "id": "b994fb3e",
   "metadata": {},
   "outputs": [],
   "source": [
    "LR3 = LinearRegression()\n",
    "\n",
    "# Train\n",
    "LR3.fit(X_train3,y_train3)\n",
    "\n",
    "# Validation, Predict labels\n",
    "\n",
    "y_hat3 = LR3.predict(X_val3)\n",
    "\n",
    "# Test, Model testing\n",
    "\n",
    "y_pred3 = LR3.predict(X_test3)\n"
   ]
  },
  {
   "cell_type": "code",
   "execution_count": 69,
   "id": "bab6ec2e",
   "metadata": {},
   "outputs": [
    {
     "name": "stdout",
     "output_type": "stream",
     "text": [
      "Mean Absolute Error (MAE):\n",
      " 19722.386\n",
      "\n",
      "Mean Squared Error (MSE):\n",
      " 509696180.914\n",
      "\n",
      "Root Mean Squared Error (RMSE):\n",
      " 22576.452\n",
      "\n",
      "R2_score:\n",
      " 0.008357\n",
      "\n",
      "Root Mean Squared Log Error (RMSLE):\n",
      " 10.025\n"
     ]
    }
   ],
   "source": [
    "print('Mean Absolute Error (MAE):\\n', round(metrics.mean_absolute_error(y_test3, y_pred3),3)) \n",
    "print()\n",
    "print('Mean Squared Error (MSE):\\n', round(metrics.mean_squared_error(y_test3, y_pred3),3))\n",
    "print()\n",
    "print('Root Mean Squared Error (RMSE):\\n', round(np.sqrt(metrics.mean_squared_error(y_test3, y_pred3)),3))\n",
    "print()\n",
    "print('R2_score:\\n', round(metrics.r2_score(y_test3, y_pred3),6))\n",
    "print()\n",
    "print('Root Mean Squared Log Error (RMSLE):\\n', round(np.log(np.sqrt(metrics.mean_squared_error(y_test3, y_pred3))),3))"
   ]
  },
  {
   "cell_type": "code",
   "execution_count": null,
   "id": "e3762b93",
   "metadata": {},
   "outputs": [],
   "source": []
  }
 ],
 "metadata": {
  "kernelspec": {
   "display_name": "Python 3 (ipykernel)",
   "language": "python",
   "name": "python3"
  },
  "language_info": {
   "codemirror_mode": {
    "name": "ipython",
    "version": 3
   },
   "file_extension": ".py",
   "mimetype": "text/x-python",
   "name": "python",
   "nbconvert_exporter": "python",
   "pygments_lexer": "ipython3",
   "version": "3.9.13"
  }
 },
 "nbformat": 4,
 "nbformat_minor": 5
}
